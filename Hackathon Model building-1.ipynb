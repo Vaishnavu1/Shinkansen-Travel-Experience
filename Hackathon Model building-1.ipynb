{
 "cells": [
  {
   "cell_type": "code",
   "execution_count": 1,
   "id": "a7b652db",
   "metadata": {},
   "outputs": [],
   "source": [
    "import pandas as pd\n",
    "import numpy as np\n",
    "\n",
    "import matplotlib.pyplot as plt\n",
    "import seaborn as sns\n",
    "\n",
    "\n",
    "pd.set_option(\"display.max_columns\", None)\n",
    "\n",
    "pd.set_option(\"display.max_rows\", 200)"
   ]
  },
  {
   "cell_type": "code",
   "execution_count": 2,
   "id": "e30d519c",
   "metadata": {},
   "outputs": [],
   "source": [
    "df_train = pd.read_csv(r'C:\\Users\\User\\OneDrive\\Desktop\\HACKATHON\\merged_data_train.csv')"
   ]
  },
  {
   "cell_type": "code",
   "execution_count": 3,
   "id": "b5f368dc",
   "metadata": {},
   "outputs": [],
   "source": [
    "df_test = pd.read_csv(r'C:\\Users\\User\\OneDrive\\Desktop\\HACKATHON\\merged_data_test.csv')"
   ]
  },
  {
   "cell_type": "code",
   "execution_count": 4,
   "id": "c6e52a9b",
   "metadata": {},
   "outputs": [
    {
     "name": "stdout",
     "output_type": "stream",
     "text": [
      "<class 'pandas.core.frame.DataFrame'>\n",
      "RangeIndex: 94379 entries, 0 to 94378\n",
      "Data columns (total 25 columns):\n",
      " #   Column                   Non-Null Count  Dtype  \n",
      "---  ------                   --------------  -----  \n",
      " 0   ID                       94379 non-null  int64  \n",
      " 1   Overall_Experience       94379 non-null  int64  \n",
      " 2   Seat_comfort             94379 non-null  object \n",
      " 3   Seat_Class               94379 non-null  object \n",
      " 4   Arrival_time_convenient  94379 non-null  object \n",
      " 5   Catering                 94379 non-null  object \n",
      " 6   Platform_location        94379 non-null  object \n",
      " 7   Onboardwifi_service      94379 non-null  object \n",
      " 8   Onboard_entertainment    94379 non-null  object \n",
      " 9   Online_support           94379 non-null  object \n",
      " 10  Onlinebooking_Ease       94379 non-null  object \n",
      " 11  Onboard_service          94379 non-null  object \n",
      " 12  Leg_room                 94379 non-null  object \n",
      " 13  Baggage_handling         94379 non-null  object \n",
      " 14  Checkin_service          94379 non-null  object \n",
      " 15  Cleanliness              94379 non-null  object \n",
      " 16  Online_boarding          94379 non-null  object \n",
      " 17  Gender                   94379 non-null  object \n",
      " 18  CustomerType             94379 non-null  object \n",
      " 19  Age                      94379 non-null  float64\n",
      " 20  TypeTravel               94379 non-null  object \n",
      " 21  Travel_Class             94379 non-null  object \n",
      " 22  Travel_Distance          94379 non-null  int64  \n",
      " 23  DepartureDelay_in_Mins   94379 non-null  float64\n",
      " 24  ArrivalDelay_in_Mins     94379 non-null  float64\n",
      "dtypes: float64(3), int64(3), object(19)\n",
      "memory usage: 18.0+ MB\n"
     ]
    }
   ],
   "source": [
    "df_train.info()"
   ]
  },
  {
   "cell_type": "code",
   "execution_count": 5,
   "id": "09ca314b",
   "metadata": {},
   "outputs": [
    {
     "name": "stdout",
     "output_type": "stream",
     "text": [
      "<class 'pandas.core.frame.DataFrame'>\n",
      "RangeIndex: 35602 entries, 0 to 35601\n",
      "Data columns (total 24 columns):\n",
      " #   Column                   Non-Null Count  Dtype  \n",
      "---  ------                   --------------  -----  \n",
      " 0   ID                       35602 non-null  int64  \n",
      " 1   Seat_comfort             35602 non-null  object \n",
      " 2   Seat_Class               35602 non-null  object \n",
      " 3   Arrival_time_convenient  35602 non-null  object \n",
      " 4   Catering                 35602 non-null  object \n",
      " 5   Platform_location        35602 non-null  object \n",
      " 6   Onboardwifi_service      35602 non-null  object \n",
      " 7   Onboard_entertainment    35602 non-null  object \n",
      " 8   Online_support           35602 non-null  object \n",
      " 9   Onlinebooking_Ease       35602 non-null  object \n",
      " 10  Onboard_service          35602 non-null  object \n",
      " 11  Leg_room                 35602 non-null  object \n",
      " 12  Baggage_handling         35602 non-null  object \n",
      " 13  Checkin_service          35602 non-null  object \n",
      " 14  Cleanliness              35602 non-null  object \n",
      " 15  Online_boarding          35602 non-null  object \n",
      " 16  Gender                   35602 non-null  object \n",
      " 17  CustomerType             35602 non-null  object \n",
      " 18  Age                      35602 non-null  float64\n",
      " 19  TypeTravel               35602 non-null  object \n",
      " 20  Travel_Class             35602 non-null  object \n",
      " 21  Travel_Distance          35602 non-null  int64  \n",
      " 22  DepartureDelay_in_Mins   35602 non-null  float64\n",
      " 23  ArrivalDelay_in_Mins     35602 non-null  float64\n",
      "dtypes: float64(3), int64(2), object(19)\n",
      "memory usage: 6.5+ MB\n"
     ]
    }
   ],
   "source": [
    "df_test.info()"
   ]
  },
  {
   "cell_type": "code",
   "execution_count": 6,
   "id": "1410fef0",
   "metadata": {},
   "outputs": [
    {
     "data": {
      "text/plain": [
       "0        need improvement\n",
       "1                    poor\n",
       "2        need improvement\n",
       "3              acceptable\n",
       "4              acceptable\n",
       "               ...       \n",
       "94374                poor\n",
       "94375                good\n",
       "94376    need improvement\n",
       "94377    need improvement\n",
       "94378          acceptable\n",
       "Name: Seat_comfort, Length: 94379, dtype: object"
      ]
     },
     "execution_count": 6,
     "metadata": {},
     "output_type": "execute_result"
    }
   ],
   "source": [
    "df_train['Seat_comfort']"
   ]
  },
  {
   "cell_type": "code",
   "execution_count": 7,
   "id": "5486167e",
   "metadata": {},
   "outputs": [],
   "source": [
    "# Encoding"
   ]
  },
  {
   "cell_type": "code",
   "execution_count": 8,
   "id": "9e071fd0",
   "metadata": {},
   "outputs": [],
   "source": [
    "obj = ['Seat_comfort', 'Arrival_time_convenient', 'Catering',\n",
    "       'Platform_location', 'Onboardwifi_service', 'Onboard_entertainment',\n",
    "       'Online_support', 'Onlinebooking_Ease', 'Onboard_service', 'Leg_room',\n",
    "       'Baggage_handling', 'Checkin_service', 'Cleanliness',\n",
    "       'Online_boarding']"
   ]
  },
  {
   "cell_type": "code",
   "execution_count": 9,
   "id": "d551ba04",
   "metadata": {},
   "outputs": [],
   "source": [
    "for i in obj:\n",
    "    df_train[i] = np.where(df_train[i] == 'extremely poor', '0',\n",
    "                            np.where(df_train[i] == 'poor', '1',\n",
    "                                     np.where(df_train[i] == 'need improvement', '2',\n",
    "                                              np.where(df_train[i] == 'acceptable', '3',\n",
    "                                                       np.where(df_train[i] == 'good', '4',\n",
    "                                                                np.where(df_train[i] == 'excellent', '5', df_train[i])\n",
    "                                                               )\n",
    "                                                      )\n",
    "                                            )\n",
    "                                   )\n",
    "                           )\n"
   ]
  },
  {
   "cell_type": "code",
   "execution_count": 10,
   "id": "4455ceab",
   "metadata": {},
   "outputs": [],
   "source": [
    "df_train['Platform_location'] = np.where(df_train['Platform_location'] == 'very inconvinient','0',df_train['Platform_location'])\n",
    "df_train['Platform_location'] = np.where(df_train['Platform_location'] == 'Inconvinient','1',df_train['Platform_location'])\n",
    "df_train['Platform_location'] = np.where(df_train['Platform_location'] == 'need improvement','2',df_train['Platform_location'])\n",
    "df_train['Platform_location'] = np.where(df_train['Platform_location'] == 'manageable','3',df_train['Platform_location'])\n",
    "df_train['Platform_location'] = np.where(df_train['Platform_location'] == 'Convinient','4',df_train['Platform_location'])\n",
    "df_train['Platform_location'] = np.where(df_train['Platform_location'] == 'very convinient','5',df_train['Platform_location'])"
   ]
  },
  {
   "cell_type": "code",
   "execution_count": 11,
   "id": "321003fa",
   "metadata": {},
   "outputs": [
    {
     "data": {
      "text/plain": [
       "3    24203\n",
       "4    21912\n",
       "2    17832\n",
       "1    16449\n",
       "5    13981\n",
       "0        2\n",
       "Name: Platform_location, dtype: int64"
      ]
     },
     "execution_count": 11,
     "metadata": {},
     "output_type": "execute_result"
    }
   ],
   "source": [
    "df_train['Platform_location'].value_counts()"
   ]
  },
  {
   "cell_type": "code",
   "execution_count": 12,
   "id": "b841e936",
   "metadata": {},
   "outputs": [],
   "source": [
    "obj_1 = ['Gender', 'CustomerType', 'TypeTravel', 'Travel_Class']"
   ]
  },
  {
   "cell_type": "code",
   "execution_count": 13,
   "id": "f40c1ec7",
   "metadata": {},
   "outputs": [],
   "source": [
    "df_train['Seat_Class'] = pd.get_dummies(df_train['Seat_Class'],drop_first=True)"
   ]
  },
  {
   "cell_type": "code",
   "execution_count": 14,
   "id": "1a87dc6b",
   "metadata": {},
   "outputs": [],
   "source": [
    "df_train['Gender'] = pd.get_dummies(df_train['Gender'],drop_first=True)"
   ]
  },
  {
   "cell_type": "code",
   "execution_count": 15,
   "id": "d6ba6bc5",
   "metadata": {},
   "outputs": [],
   "source": [
    "df_train['CustomerType'] = pd.get_dummies(df_train['CustomerType'],drop_first=True)"
   ]
  },
  {
   "cell_type": "code",
   "execution_count": 16,
   "id": "fe5b277a",
   "metadata": {},
   "outputs": [],
   "source": [
    "df_train['TypeTravel'] = pd.get_dummies(df_train['TypeTravel'],drop_first=True)"
   ]
  },
  {
   "cell_type": "code",
   "execution_count": 17,
   "id": "fd52e0df",
   "metadata": {},
   "outputs": [],
   "source": [
    "df_train['Travel_Class'] = pd.get_dummies(df_train['Travel_Class'],drop_first=True)"
   ]
  },
  {
   "cell_type": "code",
   "execution_count": 18,
   "id": "dcd0a09c",
   "metadata": {},
   "outputs": [],
   "source": [
    "df_train['Gender'] = pd.get_dummies(df_train['Gender'],drop_first=True)\n"
   ]
  },
  {
   "cell_type": "code",
   "execution_count": 19,
   "id": "be624d69",
   "metadata": {},
   "outputs": [],
   "source": [
    "ID = df_test['ID'].copy()"
   ]
  },
  {
   "cell_type": "code",
   "execution_count": 20,
   "id": "f8a0b645",
   "metadata": {},
   "outputs": [
    {
     "data": {
      "text/plain": [
       "0        99900001\n",
       "1        99900002\n",
       "2        99900003\n",
       "3        99900004\n",
       "4        99900005\n",
       "           ...   \n",
       "35597    99935598\n",
       "35598    99935599\n",
       "35599    99935600\n",
       "35600    99935601\n",
       "35601    99935602\n",
       "Name: ID, Length: 35602, dtype: int64"
      ]
     },
     "execution_count": 20,
     "metadata": {},
     "output_type": "execute_result"
    }
   ],
   "source": [
    "ID"
   ]
  },
  {
   "cell_type": "code",
   "execution_count": 21,
   "id": "6ee5d213",
   "metadata": {},
   "outputs": [],
   "source": [
    "df_train = df_train.drop(['ID'], axis=1)"
   ]
  },
  {
   "cell_type": "code",
   "execution_count": 22,
   "id": "69c69b20",
   "metadata": {},
   "outputs": [],
   "source": [
    "df_test  = df_test.drop(['ID'], axis=1)"
   ]
  },
  {
   "cell_type": "code",
   "execution_count": 23,
   "id": "c25efcd9",
   "metadata": {
    "scrolled": false
   },
   "outputs": [
    {
     "data": {
      "text/html": [
       "<div>\n",
       "<style scoped>\n",
       "    .dataframe tbody tr th:only-of-type {\n",
       "        vertical-align: middle;\n",
       "    }\n",
       "\n",
       "    .dataframe tbody tr th {\n",
       "        vertical-align: top;\n",
       "    }\n",
       "\n",
       "    .dataframe thead th {\n",
       "        text-align: right;\n",
       "    }\n",
       "</style>\n",
       "<table border=\"1\" class=\"dataframe\">\n",
       "  <thead>\n",
       "    <tr style=\"text-align: right;\">\n",
       "      <th></th>\n",
       "      <th>Overall_Experience</th>\n",
       "      <th>Seat_comfort</th>\n",
       "      <th>Seat_Class</th>\n",
       "      <th>Arrival_time_convenient</th>\n",
       "      <th>Catering</th>\n",
       "      <th>Platform_location</th>\n",
       "      <th>Onboardwifi_service</th>\n",
       "      <th>Onboard_entertainment</th>\n",
       "      <th>Online_support</th>\n",
       "      <th>Onlinebooking_Ease</th>\n",
       "      <th>Onboard_service</th>\n",
       "      <th>Leg_room</th>\n",
       "      <th>Baggage_handling</th>\n",
       "      <th>Checkin_service</th>\n",
       "      <th>Cleanliness</th>\n",
       "      <th>Online_boarding</th>\n",
       "      <th>Gender</th>\n",
       "      <th>CustomerType</th>\n",
       "      <th>Age</th>\n",
       "      <th>TypeTravel</th>\n",
       "      <th>Travel_Class</th>\n",
       "      <th>Travel_Distance</th>\n",
       "      <th>DepartureDelay_in_Mins</th>\n",
       "      <th>ArrivalDelay_in_Mins</th>\n",
       "    </tr>\n",
       "  </thead>\n",
       "  <tbody>\n",
       "    <tr>\n",
       "      <th>0</th>\n",
       "      <td>0</td>\n",
       "      <td>2</td>\n",
       "      <td>0</td>\n",
       "      <td>5</td>\n",
       "      <td>5</td>\n",
       "      <td>5</td>\n",
       "      <td>4</td>\n",
       "      <td>2</td>\n",
       "      <td>3</td>\n",
       "      <td>2</td>\n",
       "      <td>2</td>\n",
       "      <td>3</td>\n",
       "      <td>2</td>\n",
       "      <td>4</td>\n",
       "      <td>2</td>\n",
       "      <td>1</td>\n",
       "      <td>0</td>\n",
       "      <td>0</td>\n",
       "      <td>52.0</td>\n",
       "      <td>0</td>\n",
       "      <td>0</td>\n",
       "      <td>272</td>\n",
       "      <td>0.0</td>\n",
       "      <td>5.0</td>\n",
       "    </tr>\n",
       "    <tr>\n",
       "      <th>1</th>\n",
       "      <td>0</td>\n",
       "      <td>1</td>\n",
       "      <td>1</td>\n",
       "      <td>5</td>\n",
       "      <td>1</td>\n",
       "      <td>2</td>\n",
       "      <td>4</td>\n",
       "      <td>1</td>\n",
       "      <td>4</td>\n",
       "      <td>4</td>\n",
       "      <td>5</td>\n",
       "      <td>2</td>\n",
       "      <td>1</td>\n",
       "      <td>2</td>\n",
       "      <td>4</td>\n",
       "      <td>4</td>\n",
       "      <td>1</td>\n",
       "      <td>0</td>\n",
       "      <td>48.0</td>\n",
       "      <td>1</td>\n",
       "      <td>1</td>\n",
       "      <td>2200</td>\n",
       "      <td>9.0</td>\n",
       "      <td>0.0</td>\n",
       "    </tr>\n",
       "    <tr>\n",
       "      <th>2</th>\n",
       "      <td>1</td>\n",
       "      <td>2</td>\n",
       "      <td>0</td>\n",
       "      <td>2</td>\n",
       "      <td>2</td>\n",
       "      <td>2</td>\n",
       "      <td>2</td>\n",
       "      <td>4</td>\n",
       "      <td>5</td>\n",
       "      <td>5</td>\n",
       "      <td>5</td>\n",
       "      <td>5</td>\n",
       "      <td>5</td>\n",
       "      <td>4</td>\n",
       "      <td>5</td>\n",
       "      <td>5</td>\n",
       "      <td>0</td>\n",
       "      <td>0</td>\n",
       "      <td>43.0</td>\n",
       "      <td>0</td>\n",
       "      <td>0</td>\n",
       "      <td>1061</td>\n",
       "      <td>77.0</td>\n",
       "      <td>119.0</td>\n",
       "    </tr>\n",
       "    <tr>\n",
       "      <th>3</th>\n",
       "      <td>0</td>\n",
       "      <td>3</td>\n",
       "      <td>1</td>\n",
       "      <td>2</td>\n",
       "      <td>3</td>\n",
       "      <td>2</td>\n",
       "      <td>3</td>\n",
       "      <td>2</td>\n",
       "      <td>3</td>\n",
       "      <td>3</td>\n",
       "      <td>3</td>\n",
       "      <td>3</td>\n",
       "      <td>3</td>\n",
       "      <td>4</td>\n",
       "      <td>3</td>\n",
       "      <td>3</td>\n",
       "      <td>0</td>\n",
       "      <td>0</td>\n",
       "      <td>44.0</td>\n",
       "      <td>0</td>\n",
       "      <td>0</td>\n",
       "      <td>780</td>\n",
       "      <td>13.0</td>\n",
       "      <td>18.0</td>\n",
       "    </tr>\n",
       "    <tr>\n",
       "      <th>4</th>\n",
       "      <td>1</td>\n",
       "      <td>3</td>\n",
       "      <td>1</td>\n",
       "      <td>3</td>\n",
       "      <td>3</td>\n",
       "      <td>3</td>\n",
       "      <td>2</td>\n",
       "      <td>4</td>\n",
       "      <td>5</td>\n",
       "      <td>4</td>\n",
       "      <td>4</td>\n",
       "      <td>4</td>\n",
       "      <td>4</td>\n",
       "      <td>4</td>\n",
       "      <td>4</td>\n",
       "      <td>4</td>\n",
       "      <td>0</td>\n",
       "      <td>0</td>\n",
       "      <td>50.0</td>\n",
       "      <td>0</td>\n",
       "      <td>0</td>\n",
       "      <td>1981</td>\n",
       "      <td>0.0</td>\n",
       "      <td>0.0</td>\n",
       "    </tr>\n",
       "  </tbody>\n",
       "</table>\n",
       "</div>"
      ],
      "text/plain": [
       "   Overall_Experience Seat_comfort  Seat_Class Arrival_time_convenient  \\\n",
       "0                   0            2           0                       5   \n",
       "1                   0            1           1                       5   \n",
       "2                   1            2           0                       2   \n",
       "3                   0            3           1                       2   \n",
       "4                   1            3           1                       3   \n",
       "\n",
       "  Catering Platform_location Onboardwifi_service Onboard_entertainment  \\\n",
       "0        5                 5                   4                     2   \n",
       "1        1                 2                   4                     1   \n",
       "2        2                 2                   2                     4   \n",
       "3        3                 2                   3                     2   \n",
       "4        3                 3                   2                     4   \n",
       "\n",
       "  Online_support Onlinebooking_Ease Onboard_service Leg_room Baggage_handling  \\\n",
       "0              3                  2               2        3                2   \n",
       "1              4                  4               5        2                1   \n",
       "2              5                  5               5        5                5   \n",
       "3              3                  3               3        3                3   \n",
       "4              5                  4               4        4                4   \n",
       "\n",
       "  Checkin_service Cleanliness Online_boarding  Gender  CustomerType   Age  \\\n",
       "0               4           2               1       0             0  52.0   \n",
       "1               2           4               4       1             0  48.0   \n",
       "2               4           5               5       0             0  43.0   \n",
       "3               4           3               3       0             0  44.0   \n",
       "4               4           4               4       0             0  50.0   \n",
       "\n",
       "   TypeTravel  Travel_Class  Travel_Distance  DepartureDelay_in_Mins  \\\n",
       "0           0             0              272                     0.0   \n",
       "1           1             1             2200                     9.0   \n",
       "2           0             0             1061                    77.0   \n",
       "3           0             0              780                    13.0   \n",
       "4           0             0             1981                     0.0   \n",
       "\n",
       "   ArrivalDelay_in_Mins  \n",
       "0                   5.0  \n",
       "1                   0.0  \n",
       "2                 119.0  \n",
       "3                  18.0  \n",
       "4                   0.0  "
      ]
     },
     "execution_count": 23,
     "metadata": {},
     "output_type": "execute_result"
    }
   ],
   "source": [
    "df_train.head()"
   ]
  },
  {
   "cell_type": "code",
   "execution_count": 24,
   "id": "8a125dc4",
   "metadata": {},
   "outputs": [],
   "source": [
    "for i in obj:\n",
    "    df_test[i] = np.where(df_test[i] == 'extremely poor', '0',\n",
    "                            np.where(df_test[i] == 'poor', '1',\n",
    "                                     np.where(df_test[i] == 'need improvement', '2',\n",
    "                                              np.where(df_test[i] == 'acceptable', '3',\n",
    "                                                       np.where(df_test[i] == 'good', '4',\n",
    "                                                                np.where(df_test[i] == 'excellent', '5', df_test[i])\n",
    "                                                               )\n",
    "                                                      )\n",
    "                                            )\n",
    "                                   )\n",
    "                           )\n"
   ]
  },
  {
   "cell_type": "code",
   "execution_count": 25,
   "id": "e875e4ee",
   "metadata": {},
   "outputs": [],
   "source": [
    "df_test['Platform_location'] = np.where(df_test['Platform_location'] == 'very inconvinient','0',df_test['Platform_location'])\n",
    "df_test['Platform_location'] = np.where(df_test['Platform_location'] == 'Inconvinient','1',df_test['Platform_location'])\n",
    "df_test['Platform_location'] = np.where(df_test['Platform_location'] == 'need improvement','2',df_test['Platform_location'])\n",
    "df_test['Platform_location'] = np.where(df_test['Platform_location'] == 'manageable','3',df_test['Platform_location'])\n",
    "df_test['Platform_location'] = np.where(df_test['Platform_location'] == 'Convinient','4',df_test['Platform_location'])\n",
    "df_test['Platform_location'] = np.where(df_test['Platform_location'] == 'very convinient','5',df_test['Platform_location'])"
   ]
  },
  {
   "cell_type": "code",
   "execution_count": null,
   "id": "31129b59",
   "metadata": {},
   "outputs": [],
   "source": []
  },
  {
   "cell_type": "code",
   "execution_count": 26,
   "id": "5079fc43",
   "metadata": {},
   "outputs": [],
   "source": [
    "df_test['Seat_Class'] = pd.get_dummies(df_test['Seat_Class'],drop_first=True)\n",
    "df_test['Gender'] = pd.get_dummies(df_test['Gender'],drop_first=True)\n",
    "df_test['CustomerType'] = pd.get_dummies(df_test['CustomerType'],drop_first=True)\n",
    "df_test['TypeTravel'] = pd.get_dummies(df_test['TypeTravel'],drop_first=True)\n",
    "df_test['Travel_Class'] = pd.get_dummies(df_test['Travel_Class'],drop_first=True)\n",
    "df_test['Gender'] = pd.get_dummies(df_test['Gender'],drop_first=True)"
   ]
  },
  {
   "cell_type": "code",
   "execution_count": 27,
   "id": "12fa3d24",
   "metadata": {},
   "outputs": [
    {
     "data": {
      "text/html": [
       "<div>\n",
       "<style scoped>\n",
       "    .dataframe tbody tr th:only-of-type {\n",
       "        vertical-align: middle;\n",
       "    }\n",
       "\n",
       "    .dataframe tbody tr th {\n",
       "        vertical-align: top;\n",
       "    }\n",
       "\n",
       "    .dataframe thead th {\n",
       "        text-align: right;\n",
       "    }\n",
       "</style>\n",
       "<table border=\"1\" class=\"dataframe\">\n",
       "  <thead>\n",
       "    <tr style=\"text-align: right;\">\n",
       "      <th></th>\n",
       "      <th>Seat_comfort</th>\n",
       "      <th>Seat_Class</th>\n",
       "      <th>Arrival_time_convenient</th>\n",
       "      <th>Catering</th>\n",
       "      <th>Platform_location</th>\n",
       "      <th>Onboardwifi_service</th>\n",
       "      <th>Onboard_entertainment</th>\n",
       "      <th>Online_support</th>\n",
       "      <th>Onlinebooking_Ease</th>\n",
       "      <th>Onboard_service</th>\n",
       "      <th>Leg_room</th>\n",
       "      <th>Baggage_handling</th>\n",
       "      <th>Checkin_service</th>\n",
       "      <th>Cleanliness</th>\n",
       "      <th>Online_boarding</th>\n",
       "      <th>Gender</th>\n",
       "      <th>CustomerType</th>\n",
       "      <th>Age</th>\n",
       "      <th>TypeTravel</th>\n",
       "      <th>Travel_Class</th>\n",
       "      <th>Travel_Distance</th>\n",
       "      <th>DepartureDelay_in_Mins</th>\n",
       "      <th>ArrivalDelay_in_Mins</th>\n",
       "    </tr>\n",
       "  </thead>\n",
       "  <tbody>\n",
       "    <tr>\n",
       "      <th>0</th>\n",
       "      <td>3</td>\n",
       "      <td>0</td>\n",
       "      <td>3</td>\n",
       "      <td>3</td>\n",
       "      <td>3</td>\n",
       "      <td>2</td>\n",
       "      <td>5</td>\n",
       "      <td>4</td>\n",
       "      <td>5</td>\n",
       "      <td>5</td>\n",
       "      <td>5</td>\n",
       "      <td>5</td>\n",
       "      <td>4</td>\n",
       "      <td>5</td>\n",
       "      <td>1</td>\n",
       "      <td>0</td>\n",
       "      <td>0</td>\n",
       "      <td>36.0</td>\n",
       "      <td>0</td>\n",
       "      <td>0</td>\n",
       "      <td>532</td>\n",
       "      <td>0.0</td>\n",
       "      <td>0.0</td>\n",
       "    </tr>\n",
       "    <tr>\n",
       "      <th>1</th>\n",
       "      <td>0</td>\n",
       "      <td>1</td>\n",
       "      <td>4</td>\n",
       "      <td>1</td>\n",
       "      <td>3</td>\n",
       "      <td>3</td>\n",
       "      <td>1</td>\n",
       "      <td>3</td>\n",
       "      <td>3</td>\n",
       "      <td>5</td>\n",
       "      <td>3</td>\n",
       "      <td>4</td>\n",
       "      <td>3</td>\n",
       "      <td>5</td>\n",
       "      <td>3</td>\n",
       "      <td>0</td>\n",
       "      <td>1</td>\n",
       "      <td>21.0</td>\n",
       "      <td>0</td>\n",
       "      <td>0</td>\n",
       "      <td>1425</td>\n",
       "      <td>9.0</td>\n",
       "      <td>28.0</td>\n",
       "    </tr>\n",
       "    <tr>\n",
       "      <th>2</th>\n",
       "      <td>5</td>\n",
       "      <td>1</td>\n",
       "      <td>5</td>\n",
       "      <td>5</td>\n",
       "      <td>5</td>\n",
       "      <td>5</td>\n",
       "      <td>5</td>\n",
       "      <td>5</td>\n",
       "      <td>2</td>\n",
       "      <td>2</td>\n",
       "      <td>2</td>\n",
       "      <td>2</td>\n",
       "      <td>4</td>\n",
       "      <td>2</td>\n",
       "      <td>5</td>\n",
       "      <td>1</td>\n",
       "      <td>0</td>\n",
       "      <td>60.0</td>\n",
       "      <td>0</td>\n",
       "      <td>0</td>\n",
       "      <td>2832</td>\n",
       "      <td>0.0</td>\n",
       "      <td>0.0</td>\n",
       "    </tr>\n",
       "    <tr>\n",
       "      <th>3</th>\n",
       "      <td>3</td>\n",
       "      <td>0</td>\n",
       "      <td>5</td>\n",
       "      <td>3</td>\n",
       "      <td>5</td>\n",
       "      <td>1</td>\n",
       "      <td>3</td>\n",
       "      <td>5</td>\n",
       "      <td>1</td>\n",
       "      <td>3</td>\n",
       "      <td>2</td>\n",
       "      <td>5</td>\n",
       "      <td>5</td>\n",
       "      <td>5</td>\n",
       "      <td>1</td>\n",
       "      <td>0</td>\n",
       "      <td>0</td>\n",
       "      <td>29.0</td>\n",
       "      <td>1</td>\n",
       "      <td>1</td>\n",
       "      <td>1352</td>\n",
       "      <td>0.0</td>\n",
       "      <td>0.0</td>\n",
       "    </tr>\n",
       "    <tr>\n",
       "      <th>4</th>\n",
       "      <td>5</td>\n",
       "      <td>1</td>\n",
       "      <td>0</td>\n",
       "      <td>5</td>\n",
       "      <td>2</td>\n",
       "      <td>5</td>\n",
       "      <td>5</td>\n",
       "      <td>5</td>\n",
       "      <td>5</td>\n",
       "      <td>4</td>\n",
       "      <td>3</td>\n",
       "      <td>5</td>\n",
       "      <td>5</td>\n",
       "      <td>5</td>\n",
       "      <td>5</td>\n",
       "      <td>1</td>\n",
       "      <td>1</td>\n",
       "      <td>18.0</td>\n",
       "      <td>0</td>\n",
       "      <td>0</td>\n",
       "      <td>1610</td>\n",
       "      <td>17.0</td>\n",
       "      <td>0.0</td>\n",
       "    </tr>\n",
       "  </tbody>\n",
       "</table>\n",
       "</div>"
      ],
      "text/plain": [
       "  Seat_comfort  Seat_Class Arrival_time_convenient Catering Platform_location  \\\n",
       "0            3           0                       3        3                 3   \n",
       "1            0           1                       4        1                 3   \n",
       "2            5           1                       5        5                 5   \n",
       "3            3           0                       5        3                 5   \n",
       "4            5           1                       0        5                 2   \n",
       "\n",
       "  Onboardwifi_service Onboard_entertainment Online_support Onlinebooking_Ease  \\\n",
       "0                   2                     5              4                  5   \n",
       "1                   3                     1              3                  3   \n",
       "2                   5                     5              5                  2   \n",
       "3                   1                     3              5                  1   \n",
       "4                   5                     5              5                  5   \n",
       "\n",
       "  Onboard_service Leg_room Baggage_handling Checkin_service Cleanliness  \\\n",
       "0               5        5                5               4           5   \n",
       "1               5        3                4               3           5   \n",
       "2               2        2                2               4           2   \n",
       "3               3        2                5               5           5   \n",
       "4               4        3                5               5           5   \n",
       "\n",
       "  Online_boarding  Gender  CustomerType   Age  TypeTravel  Travel_Class  \\\n",
       "0               1       0             0  36.0           0             0   \n",
       "1               3       0             1  21.0           0             0   \n",
       "2               5       1             0  60.0           0             0   \n",
       "3               1       0             0  29.0           1             1   \n",
       "4               5       1             1  18.0           0             0   \n",
       "\n",
       "   Travel_Distance  DepartureDelay_in_Mins  ArrivalDelay_in_Mins  \n",
       "0              532                     0.0                   0.0  \n",
       "1             1425                     9.0                  28.0  \n",
       "2             2832                     0.0                   0.0  \n",
       "3             1352                     0.0                   0.0  \n",
       "4             1610                    17.0                   0.0  "
      ]
     },
     "execution_count": 27,
     "metadata": {},
     "output_type": "execute_result"
    }
   ],
   "source": [
    "df_test.head()"
   ]
  },
  {
   "cell_type": "code",
   "execution_count": null,
   "id": "43232693",
   "metadata": {},
   "outputs": [],
   "source": []
  },
  {
   "cell_type": "code",
   "execution_count": null,
   "id": "c8503b20",
   "metadata": {},
   "outputs": [],
   "source": []
  },
  {
   "cell_type": "code",
   "execution_count": 28,
   "id": "186dc15f",
   "metadata": {},
   "outputs": [],
   "source": [
    "\n",
    "X_train = df_train.drop(['Overall_Experience'], axis=1)\n",
    "\n",
    "y_train = df_train['Overall_Experience']"
   ]
  },
  {
   "cell_type": "code",
   "execution_count": 29,
   "id": "83c7b73f",
   "metadata": {},
   "outputs": [
    {
     "data": {
      "text/html": [
       "<div>\n",
       "<style scoped>\n",
       "    .dataframe tbody tr th:only-of-type {\n",
       "        vertical-align: middle;\n",
       "    }\n",
       "\n",
       "    .dataframe tbody tr th {\n",
       "        vertical-align: top;\n",
       "    }\n",
       "\n",
       "    .dataframe thead th {\n",
       "        text-align: right;\n",
       "    }\n",
       "</style>\n",
       "<table border=\"1\" class=\"dataframe\">\n",
       "  <thead>\n",
       "    <tr style=\"text-align: right;\">\n",
       "      <th></th>\n",
       "      <th>Seat_comfort</th>\n",
       "      <th>Seat_Class</th>\n",
       "      <th>Arrival_time_convenient</th>\n",
       "      <th>Catering</th>\n",
       "      <th>Platform_location</th>\n",
       "      <th>Onboardwifi_service</th>\n",
       "      <th>Onboard_entertainment</th>\n",
       "      <th>Online_support</th>\n",
       "      <th>Onlinebooking_Ease</th>\n",
       "      <th>Onboard_service</th>\n",
       "      <th>Leg_room</th>\n",
       "      <th>Baggage_handling</th>\n",
       "      <th>Checkin_service</th>\n",
       "      <th>Cleanliness</th>\n",
       "      <th>Online_boarding</th>\n",
       "      <th>Gender</th>\n",
       "      <th>CustomerType</th>\n",
       "      <th>Age</th>\n",
       "      <th>TypeTravel</th>\n",
       "      <th>Travel_Class</th>\n",
       "      <th>Travel_Distance</th>\n",
       "      <th>DepartureDelay_in_Mins</th>\n",
       "      <th>ArrivalDelay_in_Mins</th>\n",
       "    </tr>\n",
       "  </thead>\n",
       "  <tbody>\n",
       "    <tr>\n",
       "      <th>0</th>\n",
       "      <td>3</td>\n",
       "      <td>0</td>\n",
       "      <td>3</td>\n",
       "      <td>3</td>\n",
       "      <td>3</td>\n",
       "      <td>2</td>\n",
       "      <td>5</td>\n",
       "      <td>4</td>\n",
       "      <td>5</td>\n",
       "      <td>5</td>\n",
       "      <td>5</td>\n",
       "      <td>5</td>\n",
       "      <td>4</td>\n",
       "      <td>5</td>\n",
       "      <td>1</td>\n",
       "      <td>0</td>\n",
       "      <td>0</td>\n",
       "      <td>36.0</td>\n",
       "      <td>0</td>\n",
       "      <td>0</td>\n",
       "      <td>532</td>\n",
       "      <td>0.0</td>\n",
       "      <td>0.0</td>\n",
       "    </tr>\n",
       "    <tr>\n",
       "      <th>1</th>\n",
       "      <td>0</td>\n",
       "      <td>1</td>\n",
       "      <td>4</td>\n",
       "      <td>1</td>\n",
       "      <td>3</td>\n",
       "      <td>3</td>\n",
       "      <td>1</td>\n",
       "      <td>3</td>\n",
       "      <td>3</td>\n",
       "      <td>5</td>\n",
       "      <td>3</td>\n",
       "      <td>4</td>\n",
       "      <td>3</td>\n",
       "      <td>5</td>\n",
       "      <td>3</td>\n",
       "      <td>0</td>\n",
       "      <td>1</td>\n",
       "      <td>21.0</td>\n",
       "      <td>0</td>\n",
       "      <td>0</td>\n",
       "      <td>1425</td>\n",
       "      <td>9.0</td>\n",
       "      <td>28.0</td>\n",
       "    </tr>\n",
       "    <tr>\n",
       "      <th>2</th>\n",
       "      <td>5</td>\n",
       "      <td>1</td>\n",
       "      <td>5</td>\n",
       "      <td>5</td>\n",
       "      <td>5</td>\n",
       "      <td>5</td>\n",
       "      <td>5</td>\n",
       "      <td>5</td>\n",
       "      <td>2</td>\n",
       "      <td>2</td>\n",
       "      <td>2</td>\n",
       "      <td>2</td>\n",
       "      <td>4</td>\n",
       "      <td>2</td>\n",
       "      <td>5</td>\n",
       "      <td>1</td>\n",
       "      <td>0</td>\n",
       "      <td>60.0</td>\n",
       "      <td>0</td>\n",
       "      <td>0</td>\n",
       "      <td>2832</td>\n",
       "      <td>0.0</td>\n",
       "      <td>0.0</td>\n",
       "    </tr>\n",
       "    <tr>\n",
       "      <th>3</th>\n",
       "      <td>3</td>\n",
       "      <td>0</td>\n",
       "      <td>5</td>\n",
       "      <td>3</td>\n",
       "      <td>5</td>\n",
       "      <td>1</td>\n",
       "      <td>3</td>\n",
       "      <td>5</td>\n",
       "      <td>1</td>\n",
       "      <td>3</td>\n",
       "      <td>2</td>\n",
       "      <td>5</td>\n",
       "      <td>5</td>\n",
       "      <td>5</td>\n",
       "      <td>1</td>\n",
       "      <td>0</td>\n",
       "      <td>0</td>\n",
       "      <td>29.0</td>\n",
       "      <td>1</td>\n",
       "      <td>1</td>\n",
       "      <td>1352</td>\n",
       "      <td>0.0</td>\n",
       "      <td>0.0</td>\n",
       "    </tr>\n",
       "    <tr>\n",
       "      <th>4</th>\n",
       "      <td>5</td>\n",
       "      <td>1</td>\n",
       "      <td>0</td>\n",
       "      <td>5</td>\n",
       "      <td>2</td>\n",
       "      <td>5</td>\n",
       "      <td>5</td>\n",
       "      <td>5</td>\n",
       "      <td>5</td>\n",
       "      <td>4</td>\n",
       "      <td>3</td>\n",
       "      <td>5</td>\n",
       "      <td>5</td>\n",
       "      <td>5</td>\n",
       "      <td>5</td>\n",
       "      <td>1</td>\n",
       "      <td>1</td>\n",
       "      <td>18.0</td>\n",
       "      <td>0</td>\n",
       "      <td>0</td>\n",
       "      <td>1610</td>\n",
       "      <td>17.0</td>\n",
       "      <td>0.0</td>\n",
       "    </tr>\n",
       "    <tr>\n",
       "      <th>...</th>\n",
       "      <td>...</td>\n",
       "      <td>...</td>\n",
       "      <td>...</td>\n",
       "      <td>...</td>\n",
       "      <td>...</td>\n",
       "      <td>...</td>\n",
       "      <td>...</td>\n",
       "      <td>...</td>\n",
       "      <td>...</td>\n",
       "      <td>...</td>\n",
       "      <td>...</td>\n",
       "      <td>...</td>\n",
       "      <td>...</td>\n",
       "      <td>...</td>\n",
       "      <td>...</td>\n",
       "      <td>...</td>\n",
       "      <td>...</td>\n",
       "      <td>...</td>\n",
       "      <td>...</td>\n",
       "      <td>...</td>\n",
       "      <td>...</td>\n",
       "      <td>...</td>\n",
       "      <td>...</td>\n",
       "    </tr>\n",
       "    <tr>\n",
       "      <th>35597</th>\n",
       "      <td>2</td>\n",
       "      <td>0</td>\n",
       "      <td>5</td>\n",
       "      <td>2</td>\n",
       "      <td>3</td>\n",
       "      <td>3</td>\n",
       "      <td>2</td>\n",
       "      <td>3</td>\n",
       "      <td>3</td>\n",
       "      <td>4</td>\n",
       "      <td>5</td>\n",
       "      <td>4</td>\n",
       "      <td>3</td>\n",
       "      <td>4</td>\n",
       "      <td>3</td>\n",
       "      <td>1</td>\n",
       "      <td>0</td>\n",
       "      <td>8.0</td>\n",
       "      <td>1</td>\n",
       "      <td>1</td>\n",
       "      <td>1334</td>\n",
       "      <td>0.0</td>\n",
       "      <td>0.0</td>\n",
       "    </tr>\n",
       "    <tr>\n",
       "      <th>35598</th>\n",
       "      <td>2</td>\n",
       "      <td>1</td>\n",
       "      <td>2</td>\n",
       "      <td>4</td>\n",
       "      <td>2</td>\n",
       "      <td>3</td>\n",
       "      <td>5</td>\n",
       "      <td>5</td>\n",
       "      <td>4</td>\n",
       "      <td>4</td>\n",
       "      <td>4</td>\n",
       "      <td>4</td>\n",
       "      <td>3</td>\n",
       "      <td>4</td>\n",
       "      <td>4</td>\n",
       "      <td>0</td>\n",
       "      <td>0</td>\n",
       "      <td>53.0</td>\n",
       "      <td>0</td>\n",
       "      <td>0</td>\n",
       "      <td>1772</td>\n",
       "      <td>0.0</td>\n",
       "      <td>0.0</td>\n",
       "    </tr>\n",
       "    <tr>\n",
       "      <th>35599</th>\n",
       "      <td>4</td>\n",
       "      <td>0</td>\n",
       "      <td>0</td>\n",
       "      <td>4</td>\n",
       "      <td>2</td>\n",
       "      <td>2</td>\n",
       "      <td>4</td>\n",
       "      <td>1</td>\n",
       "      <td>2</td>\n",
       "      <td>1</td>\n",
       "      <td>3</td>\n",
       "      <td>1</td>\n",
       "      <td>1</td>\n",
       "      <td>5</td>\n",
       "      <td>2</td>\n",
       "      <td>1</td>\n",
       "      <td>1</td>\n",
       "      <td>22.0</td>\n",
       "      <td>0</td>\n",
       "      <td>1</td>\n",
       "      <td>1180</td>\n",
       "      <td>0.0</td>\n",
       "      <td>0.0</td>\n",
       "    </tr>\n",
       "    <tr>\n",
       "      <th>35600</th>\n",
       "      <td>5</td>\n",
       "      <td>1</td>\n",
       "      <td>5</td>\n",
       "      <td>5</td>\n",
       "      <td>1</td>\n",
       "      <td>3</td>\n",
       "      <td>5</td>\n",
       "      <td>4</td>\n",
       "      <td>5</td>\n",
       "      <td>5</td>\n",
       "      <td>5</td>\n",
       "      <td>5</td>\n",
       "      <td>3</td>\n",
       "      <td>5</td>\n",
       "      <td>4</td>\n",
       "      <td>0</td>\n",
       "      <td>0</td>\n",
       "      <td>67.0</td>\n",
       "      <td>1</td>\n",
       "      <td>1</td>\n",
       "      <td>420</td>\n",
       "      <td>23.0</td>\n",
       "      <td>16.0</td>\n",
       "    </tr>\n",
       "    <tr>\n",
       "      <th>35601</th>\n",
       "      <td>4</td>\n",
       "      <td>1</td>\n",
       "      <td>3</td>\n",
       "      <td>4</td>\n",
       "      <td>3</td>\n",
       "      <td>1</td>\n",
       "      <td>4</td>\n",
       "      <td>1</td>\n",
       "      <td>1</td>\n",
       "      <td>3</td>\n",
       "      <td>4</td>\n",
       "      <td>4</td>\n",
       "      <td>2</td>\n",
       "      <td>4</td>\n",
       "      <td>1</td>\n",
       "      <td>1</td>\n",
       "      <td>0</td>\n",
       "      <td>20.0</td>\n",
       "      <td>1</td>\n",
       "      <td>1</td>\n",
       "      <td>1680</td>\n",
       "      <td>0.0</td>\n",
       "      <td>0.0</td>\n",
       "    </tr>\n",
       "  </tbody>\n",
       "</table>\n",
       "<p>35602 rows × 23 columns</p>\n",
       "</div>"
      ],
      "text/plain": [
       "      Seat_comfort  Seat_Class Arrival_time_convenient Catering  \\\n",
       "0                3           0                       3        3   \n",
       "1                0           1                       4        1   \n",
       "2                5           1                       5        5   \n",
       "3                3           0                       5        3   \n",
       "4                5           1                       0        5   \n",
       "...            ...         ...                     ...      ...   \n",
       "35597            2           0                       5        2   \n",
       "35598            2           1                       2        4   \n",
       "35599            4           0                       0        4   \n",
       "35600            5           1                       5        5   \n",
       "35601            4           1                       3        4   \n",
       "\n",
       "      Platform_location Onboardwifi_service Onboard_entertainment  \\\n",
       "0                     3                   2                     5   \n",
       "1                     3                   3                     1   \n",
       "2                     5                   5                     5   \n",
       "3                     5                   1                     3   \n",
       "4                     2                   5                     5   \n",
       "...                 ...                 ...                   ...   \n",
       "35597                 3                   3                     2   \n",
       "35598                 2                   3                     5   \n",
       "35599                 2                   2                     4   \n",
       "35600                 1                   3                     5   \n",
       "35601                 3                   1                     4   \n",
       "\n",
       "      Online_support Onlinebooking_Ease Onboard_service Leg_room  \\\n",
       "0                  4                  5               5        5   \n",
       "1                  3                  3               5        3   \n",
       "2                  5                  2               2        2   \n",
       "3                  5                  1               3        2   \n",
       "4                  5                  5               4        3   \n",
       "...              ...                ...             ...      ...   \n",
       "35597              3                  3               4        5   \n",
       "35598              5                  4               4        4   \n",
       "35599              1                  2               1        3   \n",
       "35600              4                  5               5        5   \n",
       "35601              1                  1               3        4   \n",
       "\n",
       "      Baggage_handling Checkin_service Cleanliness Online_boarding  Gender  \\\n",
       "0                    5               4           5               1       0   \n",
       "1                    4               3           5               3       0   \n",
       "2                    2               4           2               5       1   \n",
       "3                    5               5           5               1       0   \n",
       "4                    5               5           5               5       1   \n",
       "...                ...             ...         ...             ...     ...   \n",
       "35597                4               3           4               3       1   \n",
       "35598                4               3           4               4       0   \n",
       "35599                1               1           5               2       1   \n",
       "35600                5               3           5               4       0   \n",
       "35601                4               2           4               1       1   \n",
       "\n",
       "       CustomerType   Age  TypeTravel  Travel_Class  Travel_Distance  \\\n",
       "0                 0  36.0           0             0              532   \n",
       "1                 1  21.0           0             0             1425   \n",
       "2                 0  60.0           0             0             2832   \n",
       "3                 0  29.0           1             1             1352   \n",
       "4                 1  18.0           0             0             1610   \n",
       "...             ...   ...         ...           ...              ...   \n",
       "35597             0   8.0           1             1             1334   \n",
       "35598             0  53.0           0             0             1772   \n",
       "35599             1  22.0           0             1             1180   \n",
       "35600             0  67.0           1             1              420   \n",
       "35601             0  20.0           1             1             1680   \n",
       "\n",
       "       DepartureDelay_in_Mins  ArrivalDelay_in_Mins  \n",
       "0                         0.0                   0.0  \n",
       "1                         9.0                  28.0  \n",
       "2                         0.0                   0.0  \n",
       "3                         0.0                   0.0  \n",
       "4                        17.0                   0.0  \n",
       "...                       ...                   ...  \n",
       "35597                     0.0                   0.0  \n",
       "35598                     0.0                   0.0  \n",
       "35599                     0.0                   0.0  \n",
       "35600                    23.0                  16.0  \n",
       "35601                     0.0                   0.0  \n",
       "\n",
       "[35602 rows x 23 columns]"
      ]
     },
     "execution_count": 29,
     "metadata": {},
     "output_type": "execute_result"
    }
   ],
   "source": [
    "df_test"
   ]
  },
  {
   "cell_type": "code",
   "execution_count": 30,
   "id": "e2023276",
   "metadata": {},
   "outputs": [],
   "source": [
    "X_test = df_test"
   ]
  },
  {
   "cell_type": "code",
   "execution_count": 31,
   "id": "fad0d0d9",
   "metadata": {},
   "outputs": [],
   "source": [
    "# Building models"
   ]
  },
  {
   "cell_type": "code",
   "execution_count": null,
   "id": "4a3362f9",
   "metadata": {},
   "outputs": [],
   "source": []
  },
  {
   "cell_type": "markdown",
   "id": "6f7e6463",
   "metadata": {},
   "source": [
    "###  LOGISTIC REGRESSION"
   ]
  },
  {
   "cell_type": "code",
   "execution_count": 32,
   "id": "d62380c4",
   "metadata": {},
   "outputs": [],
   "source": [
    "import warnings\n",
    "\n",
    "warnings.filterwarnings(\"ignore\")"
   ]
  },
  {
   "cell_type": "code",
   "execution_count": 33,
   "id": "9dcf71da",
   "metadata": {},
   "outputs": [],
   "source": [
    "from sklearn.linear_model import LogisticRegression"
   ]
  },
  {
   "cell_type": "code",
   "execution_count": 34,
   "id": "af2dbfda",
   "metadata": {},
   "outputs": [],
   "source": [
    "LR = LogisticRegression()\n",
    "base_model_lr = LR.fit(X_train,y_train)"
   ]
  },
  {
   "cell_type": "code",
   "execution_count": 35,
   "id": "cecb5170",
   "metadata": {},
   "outputs": [
    {
     "name": "stdout",
     "output_type": "stream",
     "text": [
      "Accuracy Score of Base_Model: 0.7887983555663866\n"
     ]
    }
   ],
   "source": [
    "print('Accuracy Score of Base_Model:',base_model_lr.score(X_train, y_train))"
   ]
  },
  {
   "cell_type": "code",
   "execution_count": null,
   "id": "84b2fe12",
   "metadata": {},
   "outputs": [],
   "source": []
  },
  {
   "cell_type": "code",
   "execution_count": 36,
   "id": "7fb004c0",
   "metadata": {},
   "outputs": [
    {
     "name": "stdout",
     "output_type": "stream",
     "text": [
      "CLASSIFICATION REPORT FOR BASE MODEL TRAIN DATA \n",
      "\n",
      "              precision    recall  f1-score   support\n",
      "\n",
      "           0       0.80      0.71      0.75     42786\n",
      "           1       0.78      0.85      0.82     51593\n",
      "\n",
      "    accuracy                           0.79     94379\n",
      "   macro avg       0.79      0.78      0.78     94379\n",
      "weighted avg       0.79      0.79      0.79     94379\n",
      "\n"
     ]
    }
   ],
   "source": [
    "#Base model test data classification report \n",
    "from sklearn.metrics import classification_report\n",
    "\n",
    "y_pred_base_model_train_lr = LR.predict(X_train)\n",
    "\n",
    "print('CLASSIFICATION REPORT FOR BASE MODEL TRAIN DATA \\n')\n",
    "print(classification_report(y_train, y_pred_base_model_train_lr))"
   ]
  },
  {
   "cell_type": "code",
   "execution_count": 37,
   "id": "69189b9a",
   "metadata": {},
   "outputs": [],
   "source": [
    "#Test predict\n",
    "y_pred_base_model_train_lr = LR.predict(X_test)"
   ]
  },
  {
   "cell_type": "code",
   "execution_count": 38,
   "id": "a68eb821",
   "metadata": {},
   "outputs": [
    {
     "data": {
      "text/plain": [
       "array([1, 0, 0, ..., 1, 1, 1], dtype=int64)"
      ]
     },
     "execution_count": 38,
     "metadata": {},
     "output_type": "execute_result"
    }
   ],
   "source": [
    "y_pred_base_model_train_lr"
   ]
  },
  {
   "cell_type": "code",
   "execution_count": null,
   "id": "8cf7f6ac",
   "metadata": {},
   "outputs": [],
   "source": []
  },
  {
   "cell_type": "code",
   "execution_count": 39,
   "id": "b8981496",
   "metadata": {},
   "outputs": [],
   "source": [
    "final_predictions_1 = y_pred_base_model_train_lr\n",
    "submission_1=pd.DataFrame([ID,final_predictions_1]).T\n",
    "submission_1.rename(columns={\"Unnamed 0\": \"Overall_Experience\"},inplace=True)\n",
    "submission_1.to_csv('submission_1.csv',index = False)"
   ]
  },
  {
   "cell_type": "markdown",
   "id": "4ca16ddb",
   "metadata": {},
   "source": [
    "## DECISION TREE"
   ]
  },
  {
   "cell_type": "code",
   "execution_count": 40,
   "id": "4c50fb59",
   "metadata": {},
   "outputs": [],
   "source": [
    "from sklearn.tree import DecisionTreeClassifier\n",
    "dt_model = DecisionTreeClassifier(criterion='gini',max_depth=10,random_state=0)\n",
    "dt_model.fit(X_train,y_train)\n",
    "\n",
    "y_pred_train = dt_model.predict(X_train)\n",
    "y_pred_val = dt_model.predict(X_test)"
   ]
  },
  {
   "cell_type": "code",
   "execution_count": 41,
   "id": "202f4812",
   "metadata": {},
   "outputs": [
    {
     "name": "stdout",
     "output_type": "stream",
     "text": [
      "Train Accuracy: 0.935960330158192\n",
      "\n",
      "Train ROC AUC score: 0.9366266054487075\n",
      "\n"
     ]
    }
   ],
   "source": [
    "from sklearn import metrics\n",
    "dt_acc_train = metrics.accuracy_score(y_train,y_pred_train)\n",
    "print(\"Train Accuracy:\",dt_acc_train)\n",
    "print()\n",
    "\n",
    "dt_roc_train = metrics.roc_auc_score(y_train,y_pred_train)\n",
    "print(\"Train ROC AUC score:\",dt_roc_train)\n",
    "print()"
   ]
  },
  {
   "cell_type": "code",
   "execution_count": 42,
   "id": "44a81228",
   "metadata": {},
   "outputs": [
    {
     "name": "stdout",
     "output_type": "stream",
     "text": [
      "CLASSIFICATION REPORT FOR BASE MODEL TRAIN DATA \n",
      "\n",
      "              precision    recall  f1-score   support\n",
      "\n",
      "           0       0.92      0.94      0.93     42786\n",
      "           1       0.95      0.93      0.94     51593\n",
      "\n",
      "    accuracy                           0.94     94379\n",
      "   macro avg       0.93      0.94      0.94     94379\n",
      "weighted avg       0.94      0.94      0.94     94379\n",
      "\n"
     ]
    }
   ],
   "source": [
    "#Base model train data classification report \n",
    "\n",
    "y_pred_base_model_train_dt = dt_model.predict(X_train)\n",
    "\n",
    "print('CLASSIFICATION REPORT FOR BASE MODEL TRAIN DATA \\n')\n",
    "print(classification_report(y_train, y_pred_base_model_train_dt))"
   ]
  },
  {
   "cell_type": "code",
   "execution_count": 43,
   "id": "00a65b14",
   "metadata": {},
   "outputs": [],
   "source": [
    "final_predictions_2 = dt_model.predict(X_test)\n",
    "submission_2=pd.DataFrame([ID,final_predictions_2]).T\n",
    "submission_2.rename(columns={\"Unnamed 0\": \"Overall_Experience\"},inplace=True)\n",
    "submission_2.to_csv('submission_2.csv',index = False)"
   ]
  },
  {
   "cell_type": "markdown",
   "id": "027e9fc0",
   "metadata": {},
   "source": [
    "## RANDOM FOREST "
   ]
  },
  {
   "cell_type": "code",
   "execution_count": 44,
   "id": "fce013b1",
   "metadata": {},
   "outputs": [],
   "source": [
    "from sklearn.ensemble import RandomForestClassifier\n",
    "rf_model = RandomForestClassifier(n_estimators=10,criterion='gini',max_depth=10,random_state=0)\n",
    "rf_model.fit(X_train,y_train)\n",
    "\n",
    "y_pred_train = rf_model.predict(X_train)\n",
    "y_pred_val = rf_model.predict(X_test)"
   ]
  },
  {
   "cell_type": "code",
   "execution_count": 45,
   "id": "ee8266c4",
   "metadata": {},
   "outputs": [
    {
     "name": "stdout",
     "output_type": "stream",
     "text": [
      "Train Accuracy: 0.9272931478400915\n",
      "\n",
      "Train ROC AUC score: 0.9259064137397729\n",
      "\n"
     ]
    }
   ],
   "source": [
    "from sklearn import metrics\n",
    "dt_acc_train = metrics.accuracy_score(y_train,y_pred_train)\n",
    "print(\"Train Accuracy:\",dt_acc_train)\n",
    "print()\n",
    "\n",
    "dt_roc_train = metrics.roc_auc_score(y_train,y_pred_train)\n",
    "print(\"Train ROC AUC score:\",dt_roc_train)\n",
    "print()"
   ]
  },
  {
   "cell_type": "code",
   "execution_count": 46,
   "id": "a4b4c187",
   "metadata": {},
   "outputs": [
    {
     "name": "stdout",
     "output_type": "stream",
     "text": [
      "CLASSIFICATION REPORT FOR BASE MODEL TRAIN DATA \n",
      "\n",
      "              precision    recall  f1-score   support\n",
      "\n",
      "           0       0.93      0.91      0.92     42786\n",
      "           1       0.93      0.94      0.93     51593\n",
      "\n",
      "    accuracy                           0.93     94379\n",
      "   macro avg       0.93      0.93      0.93     94379\n",
      "weighted avg       0.93      0.93      0.93     94379\n",
      "\n"
     ]
    }
   ],
   "source": [
    "#Base model train data classification report \n",
    "\n",
    "y_pred_base_model_train_rf = rf_model.predict(X_train)\n",
    "\n",
    "print('CLASSIFICATION REPORT FOR BASE MODEL TRAIN DATA \\n')\n",
    "print(classification_report(y_train, y_pred_base_model_train_rf))"
   ]
  },
  {
   "cell_type": "code",
   "execution_count": 47,
   "id": "bfe47aca",
   "metadata": {},
   "outputs": [],
   "source": [
    "final_predictions_3 = rf_model.predict(X_test)\n",
    "submission_3=pd.DataFrame([ID,final_predictions_3]).T\n",
    "submission_3.rename(columns={\"Unnamed 0\": \"Overall_Experience\"},inplace=True)\n",
    "submission_3.to_csv('submission_3.csv',index = False)"
   ]
  },
  {
   "cell_type": "markdown",
   "id": "3d01d7b4",
   "metadata": {},
   "source": [
    "## BAGGING"
   ]
  },
  {
   "cell_type": "code",
   "execution_count": 48,
   "id": "ffbff82d",
   "metadata": {
    "scrolled": true
   },
   "outputs": [
    {
     "data": {
      "text/html": [
       "<style>#sk-container-id-1 {color: black;background-color: white;}#sk-container-id-1 pre{padding: 0;}#sk-container-id-1 div.sk-toggleable {background-color: white;}#sk-container-id-1 label.sk-toggleable__label {cursor: pointer;display: block;width: 100%;margin-bottom: 0;padding: 0.3em;box-sizing: border-box;text-align: center;}#sk-container-id-1 label.sk-toggleable__label-arrow:before {content: \"▸\";float: left;margin-right: 0.25em;color: #696969;}#sk-container-id-1 label.sk-toggleable__label-arrow:hover:before {color: black;}#sk-container-id-1 div.sk-estimator:hover label.sk-toggleable__label-arrow:before {color: black;}#sk-container-id-1 div.sk-toggleable__content {max-height: 0;max-width: 0;overflow: hidden;text-align: left;background-color: #f0f8ff;}#sk-container-id-1 div.sk-toggleable__content pre {margin: 0.2em;color: black;border-radius: 0.25em;background-color: #f0f8ff;}#sk-container-id-1 input.sk-toggleable__control:checked~div.sk-toggleable__content {max-height: 200px;max-width: 100%;overflow: auto;}#sk-container-id-1 input.sk-toggleable__control:checked~label.sk-toggleable__label-arrow:before {content: \"▾\";}#sk-container-id-1 div.sk-estimator input.sk-toggleable__control:checked~label.sk-toggleable__label {background-color: #d4ebff;}#sk-container-id-1 div.sk-label input.sk-toggleable__control:checked~label.sk-toggleable__label {background-color: #d4ebff;}#sk-container-id-1 input.sk-hidden--visually {border: 0;clip: rect(1px 1px 1px 1px);clip: rect(1px, 1px, 1px, 1px);height: 1px;margin: -1px;overflow: hidden;padding: 0;position: absolute;width: 1px;}#sk-container-id-1 div.sk-estimator {font-family: monospace;background-color: #f0f8ff;border: 1px dotted black;border-radius: 0.25em;box-sizing: border-box;margin-bottom: 0.5em;}#sk-container-id-1 div.sk-estimator:hover {background-color: #d4ebff;}#sk-container-id-1 div.sk-parallel-item::after {content: \"\";width: 100%;border-bottom: 1px solid gray;flex-grow: 1;}#sk-container-id-1 div.sk-label:hover label.sk-toggleable__label {background-color: #d4ebff;}#sk-container-id-1 div.sk-serial::before {content: \"\";position: absolute;border-left: 1px solid gray;box-sizing: border-box;top: 0;bottom: 0;left: 50%;z-index: 0;}#sk-container-id-1 div.sk-serial {display: flex;flex-direction: column;align-items: center;background-color: white;padding-right: 0.2em;padding-left: 0.2em;position: relative;}#sk-container-id-1 div.sk-item {position: relative;z-index: 1;}#sk-container-id-1 div.sk-parallel {display: flex;align-items: stretch;justify-content: center;background-color: white;position: relative;}#sk-container-id-1 div.sk-item::before, #sk-container-id-1 div.sk-parallel-item::before {content: \"\";position: absolute;border-left: 1px solid gray;box-sizing: border-box;top: 0;bottom: 0;left: 50%;z-index: -1;}#sk-container-id-1 div.sk-parallel-item {display: flex;flex-direction: column;z-index: 1;position: relative;background-color: white;}#sk-container-id-1 div.sk-parallel-item:first-child::after {align-self: flex-end;width: 50%;}#sk-container-id-1 div.sk-parallel-item:last-child::after {align-self: flex-start;width: 50%;}#sk-container-id-1 div.sk-parallel-item:only-child::after {width: 0;}#sk-container-id-1 div.sk-dashed-wrapped {border: 1px dashed gray;margin: 0 0.4em 0.5em 0.4em;box-sizing: border-box;padding-bottom: 0.4em;background-color: white;}#sk-container-id-1 div.sk-label label {font-family: monospace;font-weight: bold;display: inline-block;line-height: 1.2em;}#sk-container-id-1 div.sk-label-container {text-align: center;}#sk-container-id-1 div.sk-container {/* jupyter's `normalize.less` sets `[hidden] { display: none; }` but bootstrap.min.css set `[hidden] { display: none !important; }` so we also need the `!important` here to be able to override the default hidden behavior on the sphinx rendered scikit-learn.org. See: https://github.com/scikit-learn/scikit-learn/issues/21755 */display: inline-block !important;position: relative;}#sk-container-id-1 div.sk-text-repr-fallback {display: none;}</style><div id=\"sk-container-id-1\" class=\"sk-top-container\"><div class=\"sk-text-repr-fallback\"><pre>BaggingClassifier(base_estimator=RandomForestClassifier(), random_state=1)</pre><b>In a Jupyter environment, please rerun this cell to show the HTML representation or trust the notebook. <br />On GitHub, the HTML representation is unable to render, please try loading this page with nbviewer.org.</b></div><div class=\"sk-container\" hidden><div class=\"sk-item sk-dashed-wrapped\"><div class=\"sk-label-container\"><div class=\"sk-label sk-toggleable\"><input class=\"sk-toggleable__control sk-hidden--visually\" id=\"sk-estimator-id-1\" type=\"checkbox\" ><label for=\"sk-estimator-id-1\" class=\"sk-toggleable__label sk-toggleable__label-arrow\">BaggingClassifier</label><div class=\"sk-toggleable__content\"><pre>BaggingClassifier(base_estimator=RandomForestClassifier(), random_state=1)</pre></div></div></div><div class=\"sk-parallel\"><div class=\"sk-parallel-item\"><div class=\"sk-item\"><div class=\"sk-label-container\"><div class=\"sk-label sk-toggleable\"><input class=\"sk-toggleable__control sk-hidden--visually\" id=\"sk-estimator-id-2\" type=\"checkbox\" ><label for=\"sk-estimator-id-2\" class=\"sk-toggleable__label sk-toggleable__label-arrow\">base_estimator: RandomForestClassifier</label><div class=\"sk-toggleable__content\"><pre>RandomForestClassifier()</pre></div></div></div><div class=\"sk-serial\"><div class=\"sk-item\"><div class=\"sk-estimator sk-toggleable\"><input class=\"sk-toggleable__control sk-hidden--visually\" id=\"sk-estimator-id-3\" type=\"checkbox\" ><label for=\"sk-estimator-id-3\" class=\"sk-toggleable__label sk-toggleable__label-arrow\">RandomForestClassifier</label><div class=\"sk-toggleable__content\"><pre>RandomForestClassifier()</pre></div></div></div></div></div></div></div></div></div></div>"
      ],
      "text/plain": [
       "BaggingClassifier(base_estimator=RandomForestClassifier(), random_state=1)"
      ]
     },
     "execution_count": 48,
     "metadata": {},
     "output_type": "execute_result"
    }
   ],
   "source": [
    "from sklearn.ensemble import BaggingClassifier\n",
    "RF = RandomForestClassifier()\n",
    "Bagging_model=BaggingClassifier(base_estimator=RF,random_state=1)\n",
    "Bagging_model.fit(X_train, y_train) "
   ]
  },
  {
   "cell_type": "code",
   "execution_count": 49,
   "id": "36546112",
   "metadata": {},
   "outputs": [],
   "source": [
    "from sklearn.model_selection import GridSearchCV"
   ]
  },
  {
   "cell_type": "code",
   "execution_count": null,
   "id": "1459f113",
   "metadata": {},
   "outputs": [],
   "source": []
  },
  {
   "cell_type": "code",
   "execution_count": 50,
   "id": "7a1eb9f7",
   "metadata": {},
   "outputs": [],
   "source": [
    "param_grid = {'n_estimators': [10,50,60],\n",
    "'max_samples' : [0.5, 0.7],\n",
    "'max_features' : [0.5, 0.7, 1.0],\n",
    "'bootstrap' :[True, False],\n",
    "'bootstrap_features' : [True, False],\n",
    "'n_jobs' : [-1],\n",
    "'random_state' : [42],\n",
    "}"
   ]
  },
  {
   "cell_type": "code",
   "execution_count": null,
   "id": "20e86377",
   "metadata": {},
   "outputs": [],
   "source": []
  },
  {
   "cell_type": "code",
   "execution_count": null,
   "id": "8b18df1e",
   "metadata": {},
   "outputs": [],
   "source": [
    "grid_search_bag = GridSearchCV(estimator = Bagging_model, param_grid = param_grid, cv = 5)\n",
    "grid_search_bag.fit(X_train, y_train)"
   ]
  },
  {
   "cell_type": "code",
   "execution_count": null,
   "id": "7a78eb29",
   "metadata": {},
   "outputs": [],
   "source": [
    "grid_search_bag.best_params_"
   ]
  },
  {
   "cell_type": "code",
   "execution_count": null,
   "id": "d6a2e7c2",
   "metadata": {},
   "outputs": [],
   "source": [
    "## Performance Matrix on train data set\n",
    "y_train_predict = grid_search_bag.predict(X_train)\n",
    "model_score =grid_search_bag.score(X_train, y_train)\n",
    "print(model_score)\n",
    "print(metrics.confusion_matrix(y_train, y_train_predict))\n",
    "print(metrics.classification_report(y_train, y_train_predict))"
   ]
  },
  {
   "cell_type": "code",
   "execution_count": null,
   "id": "bee7f67d",
   "metadata": {},
   "outputs": [],
   "source": []
  },
  {
   "cell_type": "code",
   "execution_count": null,
   "id": "f3d4bbf6",
   "metadata": {},
   "outputs": [],
   "source": [
    "final_predictions_5 = grid_search_bag.predict(X_test)\n",
    "submission_5=pd.DataFrame([ID,final_predictions_5]).T\n",
    "submission_5.rename(columns={\"Unnamed 0\": \"Overall_Experience\"},inplace=True)\n",
    "submission_5.to_csv('submission_5.csv',index = False)"
   ]
  },
  {
   "cell_type": "code",
   "execution_count": null,
   "id": "1479a3cb",
   "metadata": {},
   "outputs": [],
   "source": []
  },
  {
   "cell_type": "code",
   "execution_count": null,
   "id": "d27a1f81",
   "metadata": {},
   "outputs": [],
   "source": []
  },
  {
   "cell_type": "code",
   "execution_count": null,
   "id": "59e1ae3a",
   "metadata": {},
   "outputs": [],
   "source": []
  },
  {
   "cell_type": "markdown",
   "id": "2ef3eb10",
   "metadata": {},
   "source": [
    "### ADA-BOOSTING "
   ]
  },
  {
   "cell_type": "code",
   "execution_count": null,
   "id": "a3028479",
   "metadata": {},
   "outputs": [],
   "source": [
    "from sklearn.ensemble import AdaBoostClassifier\n",
    "\n",
    "ADB_model = AdaBoostClassifier()\n",
    "ADB_model.fit(X_train,y_train)"
   ]
  },
  {
   "cell_type": "code",
   "execution_count": null,
   "id": "c8fceb1b",
   "metadata": {},
   "outputs": [],
   "source": [
    "## Performance Matrix on train data set\n",
    "y_train_predict_ada = ADB_model.predict(X_train)\n",
    "model_score = ADB_model.score(X_train, y_train)\n",
    "print(model_score)\n",
    "print(metrics.confusion_matrix(y_train, y_train_predict_ada))\n",
    "print(metrics.classification_report(y_train, y_train_predict_ada))"
   ]
  },
  {
   "cell_type": "code",
   "execution_count": null,
   "id": "1beee31a",
   "metadata": {},
   "outputs": [],
   "source": []
  },
  {
   "cell_type": "code",
   "execution_count": null,
   "id": "c5cdf77a",
   "metadata": {},
   "outputs": [],
   "source": []
  },
  {
   "cell_type": "code",
   "execution_count": null,
   "id": "170d42f9",
   "metadata": {},
   "outputs": [],
   "source": []
  },
  {
   "cell_type": "code",
   "execution_count": null,
   "id": "ae079758",
   "metadata": {},
   "outputs": [],
   "source": [
    "final_predictions_6 = ADB_model.predict(X_test)\n",
    "submission_6=pd.DataFrame([ID,final_predictions_6]).T\n",
    "submission_6.rename(columns={\"Unnamed 0\": \"Overall_Experience\"},inplace=True)\n",
    "submission_6.to_csv('submission_6.csv',index = False)"
   ]
  },
  {
   "cell_type": "code",
   "execution_count": null,
   "id": "7076b41d",
   "metadata": {},
   "outputs": [],
   "source": [
    "from sklearn.ensemble import StackingClassifier"
   ]
  },
  {
   "cell_type": "code",
   "execution_count": null,
   "id": "5a227947",
   "metadata": {},
   "outputs": [],
   "source": []
  },
  {
   "cell_type": "code",
   "execution_count": null,
   "id": "237dff62",
   "metadata": {},
   "outputs": [],
   "source": []
  },
  {
   "cell_type": "code",
   "execution_count": null,
   "id": "5bf3a646",
   "metadata": {},
   "outputs": [],
   "source": []
  }
 ],
 "metadata": {
  "kernelspec": {
   "display_name": "Python 3 (ipykernel)",
   "language": "python",
   "name": "python3"
  },
  "language_info": {
   "codemirror_mode": {
    "name": "ipython",
    "version": 3
   },
   "file_extension": ".py",
   "mimetype": "text/x-python",
   "name": "python",
   "nbconvert_exporter": "python",
   "pygments_lexer": "ipython3",
   "version": "3.9.16"
  }
 },
 "nbformat": 4,
 "nbformat_minor": 5
}
